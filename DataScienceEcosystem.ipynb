{
 "cells": [
  {
   "cell_type": "markdown",
   "id": "cfc1dd85-d688-46f8-8d51-8349f21cd17e",
   "metadata": {},
   "source": [
    "<h1>Data Science Tools and Ecosystem"
   ]
  },
  {
   "cell_type": "markdown",
   "id": "0db1b6a0-e2f2-4620-b53d-4e66bbd58abf",
   "metadata": {},
   "source": [
    "<p>In this notebook, Data Science Tools and ecosystem are summarized.</p>"
   ]
  },
  {
   "cell_type": "markdown",
   "id": "ef1efa8a-476d-46b9-9b30-023fdd4845d9",
   "metadata": {},
   "source": [
    "<h3>Objectives:</h3>\n",
    "<p>We'll remmeber some concepts:</p>\n",
    "<li>Some popular languages that Data Scientis use.</li>\n",
    "<li>Some of the commonly librares used by Data Scientist.</li>\n",
    "<li>We'll mencion some open source tools used by Data Scientist.</li>\n",
    "<li>We'll remember some common operations in python.</li>"
   ]
  },
  {
   "cell_type": "markdown",
   "id": "a3f5591d-af7a-4978-98af-0f25915cd8cc",
   "metadata": {},
   "source": [
    "<p>Some of the popular languages that Data Scientist use are:</p>\n",
    "<ol>\n",
    "<li>Python,</li>\n",
    "<li>SQL</li>\n",
    "<li>R</li>\n",
    "</ol>"
   ]
  },
  {
   "cell_type": "markdown",
   "id": "71c554dd-5790-4b3c-8373-58746d088dcd",
   "metadata": {},
   "source": [
    "<p>Some of the commonly used libraries used by Data scientist include:</p>\n",
    "<ol>\n",
    "    <li>Numpy</li>\n",
    "    <li>Pandas</li>\n",
    "    <li>TensorFLow</li>\n",
    "    <li>PyThorch</li>\n",
    "</ol>"
   ]
  },
  {
   "cell_type": "markdown",
   "id": "5f6b926c-87a2-4724-b559-2da8833336ec",
   "metadata": {},
   "source": [
    "<table>\n",
    "    <tr>\n",
    "        <th>Data Science tools</th>\n",
    "    </tr>\n",
    "    <tr>\n",
    "        <td>Jupyter notebooks</td>\n",
    "    </tr>\n",
    "        <tr>\n",
    "        <td>R studio</td>\n",
    "    </tr>\n",
    "        <tr>\n",
    "        <td>MySQL</td>\n",
    "    </tr>\n",
    "</table>"
   ]
  },
  {
   "cell_type": "markdown",
   "id": "9838c9c7-2482-4362-889d-d427fde605d6",
   "metadata": {},
   "source": [
    "<h3> Below are a few examples of evaluating arithmetic expressions in Python</h3>\n",
    "\n",
    "<ol>\n",
    "    <li> a + b </li>\n",
    "    <li> a * b </li>\n",
    "    <li> a - b </li>\n",
    "    <li> a / b </li>\n",
    "    <li> a % b </li>\n",
    "</ol>\n"
   ]
  },
  {
   "cell_type": "code",
   "execution_count": 7,
   "id": "6787dffe-1f1e-4c19-8649-f754cd81bc1f",
   "metadata": {},
   "outputs": [
    {
     "data": {
      "text/plain": [
       "17"
      ]
     },
     "execution_count": 7,
     "metadata": {},
     "output_type": "execute_result"
    }
   ],
   "source": [
    "#This a simple arithmetic expression to multiply then add integers.\n",
    "\n",
    "(3 * 4) + 5"
   ]
  },
  {
   "cell_type": "code",
   "execution_count": 9,
   "id": "d3614700-7c9b-4708-9a1a-0db2bfc25ca0",
   "metadata": {},
   "outputs": [
    {
     "data": {
      "text/plain": [
       "3.3333333333333335"
      ]
     },
     "execution_count": 9,
     "metadata": {},
     "output_type": "execute_result"
    }
   ],
   "source": [
    "#This will convert 200 minutes to hours by diving by 60.\n",
    "\n",
    "def hourstominutes(minutes):\n",
    "    return minutes / 60\n",
    "    \n",
    "hourstominutes(200)"
   ]
  },
  {
   "cell_type": "markdown",
   "id": "2eb83eab-1b59-4f10-8c40-3ab0fdc00abc",
   "metadata": {},
   "source": [
    "<h2> Author</h2>\n",
    "<p>Jorge E. Paz</p>\n"
   ]
  }
 ],
 "metadata": {
  "kernelspec": {
   "display_name": "Python 3 (ipykernel)",
   "language": "python",
   "name": "python3"
  },
  "language_info": {
   "codemirror_mode": {
    "name": "ipython",
    "version": 3
   },
   "file_extension": ".py",
   "mimetype": "text/x-python",
   "name": "python",
   "nbconvert_exporter": "python",
   "pygments_lexer": "ipython3",
   "version": "3.12.3"
  }
 },
 "nbformat": 4,
 "nbformat_minor": 5
}
